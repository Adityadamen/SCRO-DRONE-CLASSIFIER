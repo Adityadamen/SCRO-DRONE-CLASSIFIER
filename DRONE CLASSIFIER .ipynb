{
 "cells": [
  {
   "cell_type": "code",
   "execution_count": 2,
   "metadata": {},
   "outputs": [],
   "source": [
    "import numpy as np\n",
    "import os\n",
    "import sys\n",
    "import cv2 \n",
    "import matplotlib.pyplot as plt\n",
    "import pickle\n",
    "import random\n",
    "import pandas as pd\n",
    "\n",
    "import tensorflow as tf\n",
    "from tensorflow.keras import Sequential\n",
    "from tensorflow.keras.layers import Dense,Dropout,Activation, Flatten,Conv2D,MaxPooling2D\n",
    "import pickle\n",
    "\n",
    "import matplotlib.pyplot as plt\n",
    "%matplotlib inline"
   ]
  },
  {
   "cell_type": "code",
   "execution_count": 14,
   "metadata": {},
   "outputs": [],
   "source": [
    "pickle_out = open('x_data_np','wb')\n",
    "pickle.dump(x_data_np,pickle_out)\n",
    "pickle_out.close()"
   ]
  },
  {
   "cell_type": "code",
   "execution_count": 5,
   "metadata": {},
   "outputs": [],
   "source": [
    "\n",
    "X_Temp = open('x_data_np','rb')\n",
    "x_data_np = pickle.load(X_Temp)\n",
    "\n",
    "Y_Temp = open('y_data_np','rb')\n",
    "y_data_np = pickle.load(Y_Temp)"
   ]
  },
  {
   "cell_type": "code",
   "execution_count": 6,
   "metadata": {},
   "outputs": [],
   "source": [
    "x_data_np = x_data_np.reshape(-1, 50, 50, 1)"
   ]
  },
  {
   "cell_type": "code",
   "execution_count": 7,
   "metadata": {},
   "outputs": [],
   "source": [
    "from sklearn.model_selection import train_test_split\n",
    "X_Train, X_Test, Y_Train, Y_Test = train_test_split(x_data_np, y_data_np, test_size=0.3,random_state=101)"
   ]
  },
  {
   "cell_type": "code",
   "execution_count": 8,
   "metadata": {},
   "outputs": [],
   "source": [
    "model = Sequential()\n",
    "model.add(Conv2D(150, (3, 3), input_shape=x_data_np.shape[1:]))\n",
    "model.add(Activation('relu'))\n",
    "model.add(MaxPooling2D(pool_size=(2, 2)))\n",
    "model.add(Conv2D(75, (3, 3)))\n",
    "model.add(Activation('relu'))\n",
    "model.add(MaxPooling2D(pool_size=(2, 2)))\n",
    "model.add(Flatten())\n",
    "model.add(Dense(64))\n",
    "model.add(Dense(1))\n",
    "model.add(Activation('sigmoid'))\n",
    "model.compile(loss='binary_crossentropy',\n",
    "              optimizer='adam',\n",
    "              metrics=['accuracy'])"
   ]
  },
  {
   "cell_type": "code",
   "execution_count": 27,
   "metadata": {},
   "outputs": [
    {
     "name": "stdout",
     "output_type": "stream",
     "text": [
      "Epoch 1/4\n",
      "5/5 [==============================] - 1s 270ms/step - loss: 0.1919 - accuracy: 0.9538 - val_loss: 0.5197 - val_accuracy: 0.7679\n",
      "Epoch 2/4\n",
      "5/5 [==============================] - 1s 288ms/step - loss: 0.1682 - accuracy: 0.9692 - val_loss: 0.5734 - val_accuracy: 0.7857\n",
      "Epoch 3/4\n",
      "5/5 [==============================] - 1s 288ms/step - loss: 0.1244 - accuracy: 0.9692 - val_loss: 1.1735 - val_accuracy: 0.6250\n",
      "Epoch 4/4\n",
      "5/5 [==============================] - 1s 279ms/step - loss: 0.1969 - accuracy: 0.9077 - val_loss: 0.7360 - val_accuracy: 0.6964\n",
      "INFO:tensorflow:Assets written to: 64x3CNN.model\\assets\n"
     ]
    }
   ],
   "source": [
    "model.fit(X_Train, Y_Train, batch_size=30, epochs=4, validation_split=0.3)\n",
    "model.save('64x3CNN.model')"
   ]
  },
  {
   "cell_type": "code",
   "execution_count": 29,
   "metadata": {},
   "outputs": [
    {
     "name": "stdout",
     "output_type": "stream",
     "text": [
      "3/3 [==============================] - 0s 53ms/step - loss: 0.3917 - accuracy: 0.8889\n",
      "Loss = 0.3916577100753784\n",
      "Test Accuracy = 0.8888888955116272\n"
     ]
    }
   ],
   "source": [
    "preds = model.evaluate(X_Test, Y_Test)\n",
    "print (\"Loss = \" + str(preds[0]))\n",
    "print (\"Test Accuracy = \" + str(preds[1]))"
   ]
  },
  {
   "cell_type": "code",
   "execution_count": 30,
   "metadata": {},
   "outputs": [],
   "source": [
    "def prepare(filepath):\n",
    "    training_date = []\n",
    "    \n",
    "    img_array = cv2.imread(filepath,cv2.IMREAD_GRAYSCALE)\n",
    "    new_array = cv2.resize(img_array,(IMAGE_SIZE,IMAGE_SIZE))\n",
    "    new_image =  new_array.reshape(-1,IMAGE_SIZE,IMAGE_SIZE,1)\n",
    "    return new_image"
   ]
  },
  {
   "cell_type": "code",
   "execution_count": 31,
   "metadata": {},
   "outputs": [],
   "source": [
    "model = tf.keras.models.load_model('64x3CNN.model')"
   ]
  },
  {
   "cell_type": "code",
   "execution_count": 54,
   "metadata": {},
   "outputs": [
    {
     "name": "stdout",
     "output_type": "stream",
     "text": [
      "LET SEE WE CAN UPLOAD FROM USER \n"
     ]
    }
   ],
   "source": [
    "print(\"LET SEE WE CAN UPLOAD FROM USER \")"
   ]
  },
  {
   "cell_type": "code",
   "execution_count": 50,
   "metadata": {},
   "outputs": [
    {
     "data": {
      "text/plain": [
       "<matplotlib.image.AxesImage at 0x2ad03551d68>"
      ]
     },
     "execution_count": 50,
     "metadata": {},
     "output_type": "execute_result"
    },
    {
     "data": {
      "image/png": "[encoded data removed]",
      "text/plain": [
       "<Figure size 432x288 with 1 Axes>"
      ]
     },
     "metadata": {
      "needs_background": "light"
     },
     "output_type": "display_data"
    }
   ],
   "source": [
    "filepath = 'E:/Image/Fixed wing/1.jpg'\n",
    "img_array = cv2.imread(filepath,cv2.IMREAD_GRAYSCALE)\n",
    "plt.imshow(img_array)\n",
    "\n"
   ]
  },
  {
   "cell_type": "code",
   "execution_count": 51,
   "metadata": {},
   "outputs": [],
   "source": [
    "test = model.predict([prepare(filepath='E:/Image/Fixed wing/1.jpg')])"
   ]
  },
  {
   "cell_type": "code",
   "execution_count": 52,
   "metadata": {},
   "outputs": [
    {
     "name": "stdout",
     "output_type": "stream",
     "text": [
      "Fixed wing\n"
     ]
    }
   ],
   "source": [
    "print(CATERGORIES[int(test[0][0])])"
   ]
  },
  {
   "cell_type": "code",
   "execution_count": 53,
   "metadata": {},
   "outputs": [
    {
     "name": "stdout",
     "output_type": "stream",
     "text": [
      "THANK U\n"
     ]
    }
   ],
   "source": [
    "print(\"THANK U\")"
   ]
  },
  {
   "cell_type": "code",
   "execution_count": null,
   "metadata": {},
   "outputs": [],
   "source": []
  }
 ],
 "metadata": {
  "kernelspec": {
   "display_name": "Python 3",
   "language": "python",
   "name": "python3"
  },
  "language_info": {
   "codemirror_mode": {
    "name": "ipython",
    "version": 3
   },
   "file_extension": ".py",
   "mimetype": "text/x-python",
   "name": "python",
   "nbconvert_exporter": "python",
   "pygments_lexer": "ipython3",
   "version": "3.7.3"
  }
 },
 "nbformat": 4,
 "nbformat_minor": 2
}
